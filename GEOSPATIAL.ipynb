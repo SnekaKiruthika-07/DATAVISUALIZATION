{
  "nbformat": 4,
  "nbformat_minor": 0,
  "metadata": {
    "colab": {
      "provenance": []
    },
    "kernelspec": {
      "name": "python3",
      "display_name": "Python 3"
    },
    "language_info": {
      "name": "python"
    }
  },
  "cells": [
    {
      "cell_type": "code",
      "execution_count": 1,
      "metadata": {
        "colab": {
          "base_uri": "https://localhost:8080/",
          "height": 785
        },
        "id": "wPGN4ZqmYXoO",
        "outputId": "1b2bdb6b-63c2-4f40-d393-27c7802ecf4c"
      },
      "outputs": [
        {
          "output_type": "display_data",
          "data": {
            "text/plain": [
              "<Figure size 1000x1000 with 2 Axes>"
            ],
            "image/png": "[encoded data removed]"
          },
          "metadata": {}
        },
        {
          "output_type": "stream",
          "name": "stderr",
          "text": [
            "<ipython-input-1-e2fd137be7f6>:20: UserWarning: Geometry is in a geographic CRS. Results from 'centroid' are likely incorrect. Use 'GeoSeries.to_crs()' to re-project geometries to a projected CRS before this operation.\n",
            "\n",
            "  map_center = [pedestrian_data.geometry.centroid.y.mean(), pedestrian_data.geometry.centroid.x.mean()]\n"
          ]
        },
        {
          "output_type": "display_data",
          "data": {
            "text/plain": [
              "<folium.folium.Map at 0x7fdd21c3c3d0>"
            ],
            "text/html": [
              "<div style=\"width:100%;\"><div style=\"position:relative;width:100%;height:0;padding-bottom:60%;\"><span style=\"color:#565656\">Make this Notebook Trusted to load map: File -> Trust Notebook</span><iframe srcdoc=\"&lt;!DOCTYPE html&gt;\n",
              "&lt;html&gt;\n",
              "&lt;head&gt;\n",
              "    \n",
              "    &lt;meta http-equiv=&quot;content-type&quot; content=&quot;text/html; charset=UTF-8&quot; /&gt;\n",
              "    \n",
              "        &lt;script&gt;\n",
              "            L_NO_TOUCH = false;\n",
              "            L_DISABLE_3D = false;\n",
              "        &lt;/script&gt;\n",
              "    \n",
              "    &lt;style&gt;html, body {width: 100%;height: 100%;margin: 0;padding: 0;}&lt;/style&gt;\n",
              "    &lt;style&gt;#map {position:absolute;top:0;bottom:0;right:0;left:0;}&lt;/style&gt;\n",
              "    &lt;script src=&quot;https://cdn.jsdelivr.net/npm/leaflet@1.9.3/dist/leaflet.js&quot;&gt;&lt;/script&gt;\n",
              "    &lt;script src=&quot;https://code.jquery.com/jquery-1.12.4.min.js&quot;&gt;&lt;/script&gt;\n",
              "    &lt;script src=&quot;https://cdn.jsdelivr.net/npm/bootstrap@5.2.2/dist/js/bootstrap.bundle.min.js&quot;&gt;&lt;/script&gt;\n",
              "    &lt;script src=&quot;https://cdnjs.cloudflare.com/ajax/libs/Leaflet.awesome-markers/2.0.2/leaflet.awesome-markers.js&quot;&gt;&lt;/script&gt;\n",
              "    &lt;link rel=&quot;stylesheet&quot; href=&quot;https://cdn.jsdelivr.net/npm/leaflet@1.9.3/dist/leaflet.css&quot;/&gt;\n",
              "    &lt;link rel=&quot;stylesheet&quot; href=&quot;https://cdn.jsdelivr.net/npm/bootstrap@5.2.2/dist/css/bootstrap.min.css&quot;/&gt;\n",
              "    &lt;link rel=&quot;stylesheet&quot; href=&quot;https://netdna.bootstrapcdn.com/bootstrap/3.0.0/css/bootstrap.min.css&quot;/&gt;\n",
              "    &lt;link rel=&quot;stylesheet&quot; href=&quot;https://cdn.jsdelivr.net/npm/@fortawesome/fontawesome-free@6.2.0/css/all.min.css&quot;/&gt;\n",
              "    &lt;link rel=&quot;stylesheet&quot; href=&quot;https://cdnjs.cloudflare.com/ajax/libs/Leaflet.awesome-markers/2.0.2/leaflet.awesome-markers.css&quot;/&gt;\n",
              "    &lt;link rel=&quot;stylesheet&quot; href=&quot;https://cdn.jsdelivr.net/gh/python-visualization/folium/folium/templates/leaflet.awesome.rotate.min.css&quot;/&gt;\n",
              "    \n",
              "            &lt;meta name=&quot;viewport&quot; content=&quot;width=device-width,\n",
              "                initial-scale=1.0, maximum-scale=1.0, user-scalable=no&quot; /&gt;\n",
              "            &lt;style&gt;\n",
              "                #map_313bc9755c07aebfa31a36e57c73737c {\n",
              "                    position: relative;\n",
              "                    width: 100.0%;\n",
              "                    height: 100.0%;\n",
              "                    left: 0.0%;\n",
              "                    top: 0.0%;\n",
              "                }\n",
              "                .leaflet-container { font-size: 1rem; }\n",
              "            &lt;/style&gt;\n",
              "        \n",
              "&lt;/head&gt;\n",
              "&lt;body&gt;\n",
              "    \n",
              "    \n",
              "            &lt;div class=&quot;folium-map&quot; id=&quot;map_313bc9755c07aebfa31a36e57c73737c&quot; &gt;&lt;/div&gt;\n",
              "        \n",
              "&lt;/body&gt;\n",
              "&lt;script&gt;\n",
              "    \n",
              "    \n",
              "            var map_313bc9755c07aebfa31a36e57c73737c = L.map(\n",
              "                &quot;map_313bc9755c07aebfa31a36e57c73737c&quot;,\n",
              "                {\n",
              "                    center: [40.55442298802954, -77.98842108369976],\n",
              "                    crs: L.CRS.EPSG3857,\n",
              "                    zoom: 14,\n",
              "                    zoomControl: true,\n",
              "                    preferCanvas: false,\n",
              "                }\n",
              "            );\n",
              "\n",
              "            \n",
              "\n",
              "        \n",
              "    \n",
              "            var tile_layer_bd89128870a8c4dc49e30370f69c3b31 = L.tileLayer(\n",
              "                &quot;https://{s}.tile.openstreetmap.org/{z}/{x}/{y}.png&quot;,\n",
              "                {&quot;attribution&quot;: &quot;Data by \\u0026copy; \\u003ca target=\\&quot;_blank\\&quot; href=\\&quot;http://openstreetmap.org\\&quot;\\u003eOpenStreetMap\\u003c/a\\u003e, under \\u003ca target=\\&quot;_blank\\&quot; href=\\&quot;http://www.openstreetmap.org/copyright\\&quot;\\u003eODbL\\u003c/a\\u003e.&quot;, &quot;detectRetina&quot;: false, &quot;maxNativeZoom&quot;: 18, &quot;maxZoom&quot;: 18, &quot;minZoom&quot;: 0, &quot;noWrap&quot;: false, &quot;opacity&quot;: 1, &quot;subdomains&quot;: &quot;abc&quot;, &quot;tms&quot;: false}\n",
              "            ).addTo(map_313bc9755c07aebfa31a36e57c73737c);\n",
              "        \n",
              "    \n",
              "\n",
              "        function geo_json_590c8a599b5ba214b4c716a1cb0550d1_onEachFeature(feature, layer) {\n",
              "            layer.on({\n",
              "            });\n",
              "        };\n",
              "        var geo_json_590c8a599b5ba214b4c716a1cb0550d1 = L.geoJson(null, {\n",
              "                onEachFeature: geo_json_590c8a599b5ba214b4c716a1cb0550d1_onEachFeature,\n",
              "            \n",
              "        });\n",
              "\n",
              "        function geo_json_590c8a599b5ba214b4c716a1cb0550d1_add (data) {\n",
              "            geo_json_590c8a599b5ba214b4c716a1cb0550d1\n",
              "                .addData(data)\n",
              "                .addTo(map_313bc9755c07aebfa31a36e57c73737c);\n",
              "        }\n",
              "            geo_json_590c8a599b5ba214b4c716a1cb0550d1_add({&quot;bbox&quot;: [-84.5240349, 39.3364304, -71.4526172, 41.7725282], &quot;features&quot;: [{&quot;bbox&quot;: [-71.453106, 41.7722003, -71.4526172, 41.7725282], &quot;geometry&quot;: {&quot;coordinates&quot;: [[[-71.452975, 41.7725282], [-71.453106, 41.7723928], [-71.4527481, 41.7722003], [-71.4526172, 41.7723357], [-71.452975, 41.7725282]]], &quot;type&quot;: &quot;Polygon&quot;}, &quot;id&quot;: &quot;0&quot;, &quot;properties&quot;: {&quot;@geometry&quot;: null, &quot;@id&quot;: &quot;way/145470099&quot;, &quot;amenity&quot;: &quot;restaurant&quot;, &quot;building&quot;: &quot;retail&quot;, &quot;cuisine&quot;: &quot;spanish&quot;, &quot;id&quot;: &quot;way/145470099&quot;, &quot;name&quot;: &quot;Spain&quot;, &quot;shop&quot;: null}, &quot;type&quot;: &quot;Feature&quot;}, {&quot;bbox&quot;: [-84.5240349, 39.3364304, -84.5239262, 39.336533], &quot;geometry&quot;: {&quot;coordinates&quot;: [[[-84.5240349, 39.3364435], [-84.524012, 39.3364304], [-84.5239262, 39.3365199], [-84.5239491, 39.336533], [-84.5240349, 39.3364435]]], &quot;type&quot;: &quot;Polygon&quot;}, &quot;id&quot;: &quot;1&quot;, &quot;properties&quot;: {&quot;@geometry&quot;: null, &quot;@id&quot;: &quot;way/732761182&quot;, &quot;amenity&quot;: null, &quot;building&quot;: &quot;trailer&quot;, &quot;cuisine&quot;: &quot;spanish&quot;, &quot;id&quot;: &quot;way/732761182&quot;, &quot;name&quot;: &quot;Spain&quot;, &quot;shop&quot;: &quot;deli&quot;}, &quot;type&quot;: &quot;Feature&quot;}, {&quot;bbox&quot;: [-71.4528616, 41.7723643, -71.4528616, 41.7723643], &quot;geometry&quot;: {&quot;coordinates&quot;: [-71.4528616, 41.7723643], &quot;type&quot;: &quot;Point&quot;}, &quot;id&quot;: &quot;2&quot;, &quot;properties&quot;: {&quot;@geometry&quot;: &quot;center&quot;, &quot;@id&quot;: &quot;way/145470099&quot;, &quot;amenity&quot;: &quot;restaurant&quot;, &quot;building&quot;: &quot;retail&quot;, &quot;cuisine&quot;: &quot;spanish&quot;, &quot;id&quot;: &quot;way/145470099&quot;, &quot;name&quot;: &quot;Spain&quot;, &quot;shop&quot;: null}, &quot;type&quot;: &quot;Feature&quot;}, {&quot;bbox&quot;: [-84.5239806, 39.3364817, -84.5239806, 39.3364817], &quot;geometry&quot;: {&quot;coordinates&quot;: [-84.5239806, 39.3364817], &quot;type&quot;: &quot;Point&quot;}, &quot;id&quot;: &quot;3&quot;, &quot;properties&quot;: {&quot;@geometry&quot;: &quot;center&quot;, &quot;@id&quot;: &quot;way/732761182&quot;, &quot;amenity&quot;: null, &quot;building&quot;: &quot;trailer&quot;, &quot;cuisine&quot;: &quot;spanish&quot;, &quot;id&quot;: &quot;way/732761182&quot;, &quot;name&quot;: &quot;Spain&quot;, &quot;shop&quot;: &quot;deli&quot;}, &quot;type&quot;: &quot;Feature&quot;}], &quot;type&quot;: &quot;FeatureCollection&quot;});\n",
              "\n",
              "        \n",
              "&lt;/script&gt;\n",
              "&lt;/html&gt;\" style=\"position:absolute;width:100%;height:100%;left:0;top:0;border:none !important;\" allowfullscreen webkitallowfullscreen mozallowfullscreen></iframe></div></div>"
            ]
          },
          "metadata": {}
        }
      ],
      "source": [
        "import geopandas as gpd\n",
        "import folium\n",
        "import matplotlib.pyplot as plt\n",
        "from mpl_toolkits.axes_grid1 import make_axes_locatable\n",
        "\n",
        "# Load the GeoDataFrame with pedestrian paths or sidewalks\n",
        "pedestrian_data = gpd.read_file(\"/content/export (2).geojson\")\n",
        "\n",
        "# Visualize pedestrian paths density using Geopandas\n",
        "fig, ax = plt.subplots(figsize=(10, 10))\n",
        "divider = make_axes_locatable(ax)\n",
        "cax = divider.append_axes(\"right\", size=\"5%\", pad=0.1)\n",
        "pedestrian_data.plot(ax=ax, alpha=0.7, legend=True, cax=cax)\n",
        "ax.set_title(\"Pedestrian Paths Density\")\n",
        "\n",
        "# Display the plot\n",
        "plt.show()\n",
        "\n",
        "# Create a Folium map centered around the pedestrian data\n",
        "map_center = [pedestrian_data.geometry.centroid.y.mean(), pedestrian_data.geometry.centroid.x.mean()]\n",
        "mymap = folium.Map(location=map_center, zoom_start=14)\n",
        "\n",
        "# Add pedestrian paths to the map\n",
        "folium.GeoJson(pedestrian_data).add_to(mymap)\n",
        "\n",
        "# Display the map in the Jupyter Notebook\n",
        "display(mymap)\n"
      ]
    }
  ]
}